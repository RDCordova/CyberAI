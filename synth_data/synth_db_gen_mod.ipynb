{
 "cells": [
  {
   "cell_type": "markdown",
   "id": "e223023c-5c30-4a38-a2d2-b3bb481b4f2e",
   "metadata": {},
   "source": [
    "##  Synthetic Database Gen"
   ]
  },
  {
   "cell_type": "code",
   "execution_count": 1,
   "id": "ded84c3e-d673-4e71-b3d8-d76e946861a0",
   "metadata": {
    "tags": []
   },
   "outputs": [],
   "source": [
    "import sqlite3\n",
    "import csv \n",
    "import pandas as pd"
   ]
  },
  {
   "cell_type": "code",
   "execution_count": 3,
   "id": "78fd9bef-c734-45b9-af78-2e9eb19bd262",
   "metadata": {
    "tags": []
   },
   "outputs": [],
   "source": [
    "db = pd.read_csv('v_task.csv')\n",
    "db = db.drop(464)\n",
    "db = db.drop(columns=['task_closed_date'])\n",
    "\n",
    "#replace nan with \" \"\n",
    "db = db.fillna(\" \")\n",
    "db.isna().sum()\n",
    "\n",
    "#change to datetime objects \n",
    "db['accepted_date '] = pd.to_datetime(db['accepted_date '],format='mixed').dt.date\n",
    "db['completion_date'] = pd.to_datetime(db['completion_date'],format='mixed').dt.date\n",
    "db['status_date'] = pd.to_datetime(db['status_date'],format='mixed').dt.date\n",
    "db['last_update'] = pd.to_datetime(db['last_update'],format='mixed').dt.date\n",
    "db['task_creation_date'] = pd.to_datetime(db['task_creation_date'],format='mixed').dt.date\n",
    "\n"
   ]
  },
  {
   "cell_type": "code",
   "execution_count": 4,
   "id": "01aab490-8b8b-45b3-975e-c8a89b77d75f",
   "metadata": {
    "tags": []
   },
   "outputs": [],
   "source": [
    "db.to_csv('v_task_new.csv',index=False)"
   ]
  },
  {
   "cell_type": "code",
   "execution_count": 5,
   "id": "764d997d-5eec-4b93-ab46-a22c779e7062",
   "metadata": {
    "tags": []
   },
   "outputs": [
    {
     "name": "stdout",
     "output_type": "stream",
     "text": [
      "Data from v_task_new.csv has been successfully imported into snyth.db\n"
     ]
    }
   ],
   "source": [
    "#vulnerability synth\n",
    "\n",
    "#define the input csv and the sqlite database file\n",
    "imput_csv = 'v_task_new.csv'\n",
    "database_file = 'snyth.db'\n",
    "\n",
    "#connect to SQLite databsse \n",
    "conn = sqlite3.connect(database_file)\n",
    "cursor = conn.cursor()\n",
    "\n",
    "#create a table to store the data \n",
    "cursor.execute(\"\"\"CREATE TABLE IF NOT EXISTS vulnerability (\n",
    "                    accepted_date date,\n",
    "                    accepted varchar(512),\n",
    "                    change_ticket varchar(512),\n",
    "                    risk_level varchar(512),\n",
    "                    deferred_count varchar(512),\n",
    "                    acceptance_type varchar(512),\n",
    "                    false_positive_state varchar(512),\n",
    "                    existing_patch varchar(512),\n",
    "                    owner_comments varchar(512),\n",
    "                    rejection_evidence varchar(512),\n",
    "                    remediation_comments varchar(512),\n",
    "                    completion_date date,\n",
    "                    remediation_plan varchar(512),\n",
    "                    remediation_proof varchar(512),\n",
    "                    approch_used varchar(512),\n",
    "                    vulnerability_source varchar(512),\n",
    "                    status_date date,\n",
    "                    unique_id varchar(512),\n",
    "                    total_nd_vis_count int,\n",
    "                    total_vis_count int,\n",
    "                    active_vis int,\n",
    "                    active_ns_vis int,\n",
    "                    task_state varchar(512),\n",
    "                    task_desc varchar(512),\n",
    "                    assignment_count int,\n",
    "                    cve_code varchar(512),\n",
    "                    asgm_group varchar(512),\n",
    "                    task_id varchar(512),\n",
    "                    last_update date,\n",
    "                    task_creation_date date,\n",
    "                    asset_identifier varchar(512))\"\"\")\n",
    "\n",
    "#Read data from the csv file and insert it into the Sqlite table \n",
    "with open(imput_csv, 'r',newline='') as csvfile:\n",
    "    csv_reader = csv.reader(csvfile)\n",
    "    next(csv_reader) #skip the header row\n",
    "    \n",
    "    for row in csv_reader:\n",
    "        cursor.execute(\"\"\"INSERT INTO vulnerability VALUES(\n",
    "                            ?,\n",
    "                            ?,\n",
    "                            ?,\n",
    "                            ?,\n",
    "                            ?,\n",
    "                            ?,\n",
    "                            ?,\n",
    "                            ?,\n",
    "                            ?,\n",
    "                            ?,\n",
    "                            ?,\n",
    "                            ?,\n",
    "                            ?,\n",
    "                            ?,\n",
    "                            ?,\n",
    "                            ?,\n",
    "                            ?,\n",
    "                            ?,\n",
    "                            ?,\n",
    "                            ?,\n",
    "                            ?,\n",
    "                            ?,\n",
    "                            ?,\n",
    "                            ?,\n",
    "                            ?,\n",
    "                            ?,\n",
    "                            ?,\n",
    "                            ?,\n",
    "                            ?,\n",
    "                            ?,\n",
    "                            ?)\"\"\", row)\n",
    "conn.commit()\n",
    "conn.close()\n",
    "\n",
    "print(f'Data from {imput_csv} has been successfully imported into {database_file}')"
   ]
  },
  {
   "cell_type": "code",
   "execution_count": 6,
   "id": "938f7074-4900-459b-bf50-31e240d8dab5",
   "metadata": {
    "tags": []
   },
   "outputs": [
    {
     "name": "stdout",
     "output_type": "stream",
     "text": [
      "['record', 'bus_process', 'prot_type', 'data_cetner', 'mant_all', 'mant_first', 'mant_fourth', 'expected_yr', 'expeced_qtr', 'locatal_resiliance', 'location', 'platform_type', 'recover_cap', 'recover_cap_rtc', 'retirement_start', 'retirement_target', 'vender_name', 'aws_version', 'cloud_date', 'asset_rate', 'data_id', 'research_asset', 'vender_name_other', 'sox_date', 'business_id', 'business_justification', 'recovery_proprty', 'critiacal_cyber', 'cloud_only', 'prem_only', 'enterprise_bu', 'lowest_rpo', 'lowest_rto', 'data_approch', 'subrec']\n"
     ]
    },
    {
     "name": "stderr",
     "output_type": "stream",
     "text": [
      "/tmp/ipykernel_7071/1105036442.py:19: FutureWarning: DataFrame.fillna with 'method' is deprecated and will raise in a future version. Use obj.ffill() or obj.bfill() instead.\n",
      "  db_two = db_two.fillna(method='ffill')\n"
     ]
    }
   ],
   "source": [
    "db_two = pd.read_csv('bar_synth.csv')\n",
    "\n",
    "#change to datetime objects \n",
    "db_two['retire_date'] = pd.to_datetime(db_two['retire_date'],format='mixed').dt.date\n",
    "db_two['lto_one'] = pd.to_datetime(db_two['lto_one'],format='mixed').dt.date\n",
    "db_two['lto_two'] = pd.to_datetime(db_two['lto_two'],format='mixed').dt.date\n",
    "db_two['lto_three'] = pd.to_datetime(db_two['lto_three'],format='mixed').dt.date\n",
    "db_two['lto_four'] = pd.to_datetime(db_two['lto_four'],format='mixed').dt.date\n",
    "db_two['lto_five'] = pd.to_datetime(db_two['lto_five'],format='mixed').dt.date\n",
    "db_two['deplot_date'] = pd.to_datetime(db_two['deplot_date'],format='mixed').dt.date\n",
    "db_two['mait_time'] = pd.to_datetime(db_two['mait_time'],format='mixed').dt.date\n",
    "db_two['production_date'] = pd.to_datetime(db_two['production_date'],format='mixed').dt.date\n",
    "db_two['retirement_start'] = pd.to_datetime(db_two['retirement_start'],format='mixed').dt.date\n",
    "db_two['retirement_target'] = pd.to_datetime(db_two['retirement_target'],format='mixed').dt.date\n",
    "db_two['cloud_date'] = pd.to_datetime(db_two['cloud_date'],format='mixed').dt.date\n",
    "db_two['sox_date'] = pd.to_datetime(db_two['sox_date'],format='mixed').dt.date\n",
    "\n",
    "#replace nan with \" \"\n",
    "db_two = db_two.fillna(method='ffill')\n",
    "print(db_two.columns[db_two.isna().any()].tolist())\n",
    "db_two = db_two.drop(columns=db_two.columns[db_two.isna().any()].tolist())"
   ]
  },
  {
   "cell_type": "code",
   "execution_count": 7,
   "id": "e7a42bd0-bad8-4a07-8d83-5a68b3927676",
   "metadata": {
    "tags": []
   },
   "outputs": [
    {
     "data": {
      "text/plain": [
       "(999, 61)"
      ]
     },
     "execution_count": 7,
     "metadata": {},
     "output_type": "execute_result"
    }
   ],
   "source": [
    "db_two.shape"
   ]
  },
  {
   "cell_type": "code",
   "execution_count": 8,
   "id": "48d75444-430a-4ebc-8513-396a8607b402",
   "metadata": {
    "tags": []
   },
   "outputs": [],
   "source": [
    "from faker import Faker\n",
    "import random\n",
    "fake = Faker()\n",
    "k = [fake.name() for x in range(2000)]\n",
    "names = []\n",
    "for i in range(db_two.shape[0]):\n",
    "    names.append(random.sample(k, 1)[0])"
   ]
  },
  {
   "cell_type": "code",
   "execution_count": 9,
   "id": "3f175295-9670-4095-848f-38980cc9c926",
   "metadata": {
    "tags": []
   },
   "outputs": [],
   "source": [
    "db_two['asset_owner'] = names"
   ]
  },
  {
   "cell_type": "code",
   "execution_count": 10,
   "id": "ac7bd2ba-4aa9-4842-93c8-27bc758274ae",
   "metadata": {
    "tags": []
   },
   "outputs": [
    {
     "data": {
      "text/plain": [
       "(999, 62)"
      ]
     },
     "execution_count": 10,
     "metadata": {},
     "output_type": "execute_result"
    }
   ],
   "source": [
    "db_two.shape"
   ]
  },
  {
   "cell_type": "code",
   "execution_count": 11,
   "id": "25c63e74-d86f-4b9a-865f-c07617e94246",
   "metadata": {
    "tags": []
   },
   "outputs": [],
   "source": [
    "db_two.to_csv('bar_synth_new.csv',index=False)"
   ]
  },
  {
   "cell_type": "code",
   "execution_count": 12,
   "id": "97c27c1b-6c76-4f9c-94b1-f8fd7425b772",
   "metadata": {},
   "outputs": [
    {
     "name": "stdout",
     "output_type": "stream",
     "text": [
      "Data from bar_synth_new.csv has been successfully imported into snyth.db\n"
     ]
    }
   ],
   "source": [
    "#bar synth\n",
    "\n",
    "#define the input csv and the sqlite database file\n",
    "imput_csv = 'bar_synth_new.csv'\n",
    "database_file = 'snyth.db'\n",
    "\n",
    "#connect to SQLite databsse \n",
    "conn = sqlite3.connect(database_file)\n",
    "cursor = conn.cursor()\n",
    "\n",
    "#create a table to store the data \n",
    "cursor.execute(\"\"\"CREATE TABLE IF NOT EXISTS registry (\n",
    "                    uniq_id varchar(32),\t\n",
    "                    retire_date date,\n",
    "                    crit varchar(40),\t\t\n",
    "                    fcc_group_id varchar(32),\t\n",
    "                    fcc_group varchar(32),\t\n",
    "                    db_bus_approver varchar(32),\t\n",
    "                    db_tech_approver varchar(32),\t\n",
    "                    app_platform varchar(2000),\t\n",
    "                    lto_one date,\t\n",
    "                    lto_two date,\t\n",
    "                    lto_three date,\t\n",
    "                    lto_four date,\t\n",
    "                    lto_five date,\t\n",
    "                    model_asset varchar(40),\t\n",
    "                    npi_type varchar(2000),\t\t\n",
    "                    recovery_group varchar(40),\t\n",
    "                    shared_service varchar(40),\t\t\n",
    "                    mant_done varchar(40),\t\n",
    "                    mant_none varchar(40),\t\n",
    "                    mant_other varchar(40),\t\n",
    "                    mant_secound varchar(40),\t\n",
    "                    deplot_date date,\t\n",
    "                    asset_identifier varchar(40),\t\n",
    "                    asset_status varchar(80),\t\n",
    "                    asset_type varchar(40),\t\n",
    "                    bhs_classifcation varchar(40),\t\n",
    "                    bhs_rationale varchar(1000),\t\n",
    "                    bhisomess_facing varchar(40),\t\n",
    "                    confidental_info varchar(40),\t\n",
    "                    cots_product varchar(40),\t\n",
    "                    critcal_facing varchar(40),\t\n",
    "                    crown_jewel varchar(40),\t\n",
    "                    version varchar(40),\t\n",
    "                    goverance_rating varchar(40),\t\n",
    "                    desc varchar(20000),\t\n",
    "                    maint_desc varchar(1000),\t\n",
    "                    eu_path varchar(500),\t\n",
    "                    exteranl_facing varchar(40),\t\n",
    "                    hamp varchar(40),\t\n",
    "                    info_class varchar(40),\t\n",
    "                    is_platform varchar(40),\t\n",
    "                    l1_grp varchar(40),\t\n",
    "                    l15_grp varchar(40),\t\n",
    "                    l2_grp varchar(40),\t\n",
    "                    l3_grp varchar(40),\t\t\n",
    "                    mait_days varchar(2000),\t\n",
    "                    mait_frq varchar(40),\t\n",
    "                    mait_time date,\t\n",
    "                    confidental_npi varchar(40),\t\n",
    "                    other_lang varchar(40),\t\n",
    "                    passing_data varchar(40),\t\n",
    "                    primary_language varchar(40),\t\n",
    "                    production_date date,\t\n",
    "                    recover_cap varchar(40),\t\t\n",
    "                    recover_time_hours varchar(40),\t\n",
    "                    shared_system varchar(40),\t\n",
    "                    software_name varchar(40),\t\n",
    "                    sox_relevane varchar(40),\t\n",
    "                    tech_prot varchar(40),\t\n",
    "                    maint_thrid varchar(40),\t\t\n",
    "                    bus_capability varchar(4000),\n",
    "                    asset_owner varchar(200))\"\"\")\n",
    "\n",
    "\n",
    "#Read data from the csv file and insert it into the Sqlite table \n",
    "with open(imput_csv, 'r',newline='') as csvfile:\n",
    "    csv_reader = csv.reader(csvfile)\n",
    "    next(csv_reader) #skip the header row\n",
    "    \n",
    "    for row in csv_reader:\n",
    "        cursor.execute(\"\"\"INSERT INTO registry VALUES(\n",
    "                            ?,\n",
    "                            ?,\n",
    "                            ?,\n",
    "                            ?,\n",
    "                            ?,\n",
    "                            ?,\n",
    "                            ?,\n",
    "                            ?,\n",
    "                            ?,\n",
    "                            ?,\n",
    "                            ?,\n",
    "                            ?,\n",
    "                            ?,\n",
    "                            ?,\n",
    "                            ?,\n",
    "                            ?,\n",
    "                            ?,\n",
    "                            ?,\n",
    "                            ?,\n",
    "                            ?,\n",
    "                            ?,\n",
    "                            ?,\n",
    "                            ?,\n",
    "                            ?,\n",
    "                            ?,\n",
    "                            ?,\n",
    "                            ?,\n",
    "                            ?,\n",
    "                            ?,\n",
    "                            ?,\n",
    "                            ?,\n",
    "                            ?,\n",
    "                            ?,\n",
    "                            ?,\n",
    "                            ?,\n",
    "                            ?,\n",
    "                            ?,\n",
    "                            ?,\n",
    "                            ?,\n",
    "                            ?,\n",
    "                            ?,\n",
    "                            ?,\n",
    "                            ?,\n",
    "                            ?,\n",
    "                            ?,\n",
    "                            ?,\n",
    "                            ?,\n",
    "                            ?,\n",
    "                            ?,\n",
    "                            ?,\n",
    "                            ?,\n",
    "                            ?,\n",
    "                            ?,\n",
    "                            ?,\n",
    "                            ?,\n",
    "                            ?,\n",
    "                            ?,\n",
    "                            ?,\n",
    "                            ?,\n",
    "                            ?,\n",
    "                            ?,\n",
    "                            ?)\"\"\", row)\n",
    "\n",
    "conn.commit()\n",
    "conn.close()\n",
    "\n",
    "print(f'Data from {imput_csv} has been successfully imported into {database_file}')"
   ]
  },
  {
   "cell_type": "code",
   "execution_count": null,
   "id": "85dcd84b-ea40-45b2-b01e-53c7325bc809",
   "metadata": {},
   "outputs": [],
   "source": []
  },
  {
   "cell_type": "code",
   "execution_count": 13,
   "id": "1a56112d-826f-4a8c-afa9-77483013a9e2",
   "metadata": {
    "tags": []
   },
   "outputs": [
    {
     "name": "stdout",
     "output_type": "stream",
     "text": [
      "['config_manufactuer', 'serial_num', 'config_sub_cat', 'config_sup_group', 'ru_cat', 'sla_cat', 'ci_retired_date']\n"
     ]
    },
    {
     "name": "stderr",
     "output_type": "stream",
     "text": [
      "/tmp/ipykernel_7071/281867113.py:9: FutureWarning: DataFrame.fillna with 'method' is deprecated and will raise in a future version. Use obj.ffill() or obj.bfill() instead.\n",
      "  db_three = db_three.fillna(method='ffill')\n",
      "/tmp/ipykernel_7071/281867113.py:10: FutureWarning: DataFrame.fillna with 'method' is deprecated and will raise in a future version. Use obj.ffill() or obj.bfill() instead.\n",
      "  db_three = db_three.fillna(method='bfill')\n"
     ]
    }
   ],
   "source": [
    "db_three = pd.read_csv('ci_synth.csv')\n",
    "\n",
    "#change to datetime objects \n",
    "db_three['install_date'] = pd.to_datetime(db_three['install_date'],format='mixed').dt.date\n",
    "db_three['discovery_date'] = pd.to_datetime(db_three['discovery_date'],format='mixed').dt.date\n",
    "db_three['ci_retired_date'] = pd.to_datetime(db_three['ci_retired_date'],format='mixed').dt.date\n",
    "\n",
    "#replace nan with \" \"\n",
    "db_three = db_three.fillna(method='ffill')\n",
    "db_three = db_three.fillna(method='bfill')\n",
    "print(db_three.columns[db_three.isna().any()].tolist())\n",
    "db_three = db_three.drop(columns=db_three.columns[db_three.isna().any()].tolist())\n",
    "db_three.to_csv('ci_synth_new.csv',index=False)"
   ]
  },
  {
   "cell_type": "code",
   "execution_count": 14,
   "id": "c90bb09e-4155-43e2-9692-86ef94482294",
   "metadata": {
    "tags": []
   },
   "outputs": [
    {
     "name": "stdout",
     "output_type": "stream",
     "text": [
      "Data from ci_synth_new.csv has been successfully imported into snyth.db\n"
     ]
    }
   ],
   "source": [
    "#ci synth\n",
    "\n",
    "#define the input csv and the sqlite database file\n",
    "imput_csv = 'ci_synth_new.csv'\n",
    "database_file = 'snyth.db'\n",
    "\n",
    "#connect to SQLite databsse \n",
    "conn = sqlite3.connect(database_file)\n",
    "cursor = conn.cursor()\n",
    "\n",
    "#create a table to store the data \n",
    "cursor.execute(\"\"\"CREATE TABLE IF NOT EXISTS configuration (\n",
    "                    uniq_id varchar(32),\n",
    "                    config_cat varchar(40),\n",
    "                    config_disconvery_source varchar(40),\n",
    "                    domain_name varchar(255),\n",
    "                    domain_full_path varchar(255),\n",
    "                    install_date date,\n",
    "                    config_status varchar(40),\n",
    "                    discovery_date date,\n",
    "                    model_id varchar(32),\n",
    "                    config_name varchar(255),\n",
    "                    config_class_name varchar(80),\n",
    "                    asset_identifier varchar(80),\n",
    "                    inf_cat varchar(32),\n",
    "                    environment_name varchar(40))\"\"\")\n",
    "\n",
    "#Read data from the csv file and insert it into the Sqlite table \n",
    "with open(imput_csv, 'r',newline='') as csvfile:\n",
    "    csv_reader = csv.reader(csvfile)\n",
    "    next(csv_reader) #skip the header row\n",
    "    \n",
    "    for row in csv_reader:\n",
    "        cursor.execute(\"\"\"INSERT INTO configuration VALUES(\n",
    "                            ?,\n",
    "                            ?,\n",
    "                            ?,\n",
    "                            ?,\n",
    "                            ?,\n",
    "                            ?,\n",
    "                            ?,\n",
    "                            ?,\n",
    "                            ?,\n",
    "                            ?,\n",
    "                            ?,\n",
    "                            ?,\n",
    "                            ?,\n",
    "                            ?)\"\"\", row)\n",
    "conn.commit()\n",
    "conn.close()\n",
    "\n",
    "print(f'Data from {imput_csv} has been successfully imported into {database_file}')"
   ]
  },
  {
   "cell_type": "code",
   "execution_count": null,
   "id": "69f78ef9-37a4-4daf-a101-a6ff4d763ea3",
   "metadata": {},
   "outputs": [],
   "source": []
  },
  {
   "cell_type": "code",
   "execution_count": 15,
   "id": "667fa21a-698e-4f2b-9325-171fe179fc3e",
   "metadata": {},
   "outputs": [
    {
     "data": {
      "text/html": [
       "<div>\n",
       "<style scoped>\n",
       "    .dataframe tbody tr th:only-of-type {\n",
       "        vertical-align: middle;\n",
       "    }\n",
       "\n",
       "    .dataframe tbody tr th {\n",
       "        vertical-align: top;\n",
       "    }\n",
       "\n",
       "    .dataframe thead th {\n",
       "        text-align: right;\n",
       "    }\n",
       "</style>\n",
       "<table border=\"1\" class=\"dataframe\">\n",
       "  <thead>\n",
       "    <tr style=\"text-align: right;\">\n",
       "      <th></th>\n",
       "      <th>accepted_date</th>\n",
       "      <th>a_id</th>\n",
       "      <th>change_ticket</th>\n",
       "      <th>risk_level</th>\n",
       "      <th>deferred_count</th>\n",
       "      <th>acceptance_type</th>\n",
       "      <th>false_positive_state</th>\n",
       "      <th>existing_patch</th>\n",
       "      <th>owner_comments</th>\n",
       "      <th>rejection_evidence</th>\n",
       "      <th>...</th>\n",
       "      <th>active_ns_vis</th>\n",
       "      <th>task_state</th>\n",
       "      <th>task_desc</th>\n",
       "      <th>assignment_count</th>\n",
       "      <th>cve_code</th>\n",
       "      <th>asgm_group</th>\n",
       "      <th>task_id</th>\n",
       "      <th>last_update</th>\n",
       "      <th>task_creation_date</th>\n",
       "      <th>asset_identifyer</th>\n",
       "    </tr>\n",
       "  </thead>\n",
       "  <tbody>\n",
       "    <tr>\n",
       "      <th>0</th>\n",
       "      <td>2021-12-11</td>\n",
       "      <td>DE7B9426</td>\n",
       "      <td>3AA2CD</td>\n",
       "      <td>High</td>\n",
       "      <td>0</td>\n",
       "      <td>NH3oA6VbCjTNHJOdhG0kS0y6QJD2QhkXyf3RsqdPVai0Pk...</td>\n",
       "      <td></td>\n",
       "      <td>No</td>\n",
       "      <td></td>\n",
       "      <td></td>\n",
       "      <td>...</td>\n",
       "      <td></td>\n",
       "      <td>Closed</td>\n",
       "      <td>qKSMfjYpN7hmkS1snnSFcwidyySIb0SWijbEpTpU</td>\n",
       "      <td>0</td>\n",
       "      <td>CVE-2022-42889</td>\n",
       "      <td>9zfiCyKDrR</td>\n",
       "      <td>task16382</td>\n",
       "      <td>2023-01-02</td>\n",
       "      <td>2021-12-11</td>\n",
       "      <td>asset0273</td>\n",
       "    </tr>\n",
       "    <tr>\n",
       "      <th>1</th>\n",
       "      <td>2020-04-14</td>\n",
       "      <td>795E359F</td>\n",
       "      <td></td>\n",
       "      <td>Very High</td>\n",
       "      <td>0</td>\n",
       "      <td></td>\n",
       "      <td></td>\n",
       "      <td>No</td>\n",
       "      <td></td>\n",
       "      <td></td>\n",
       "      <td>...</td>\n",
       "      <td></td>\n",
       "      <td>Closed</td>\n",
       "      <td>ktHzlPdYY8GGEthwBKhM5DnT3OLefCct9eY2umJ5</td>\n",
       "      <td>0</td>\n",
       "      <td>CVE-2018-1270</td>\n",
       "      <td>ZFphoGMxgD</td>\n",
       "      <td>task15760</td>\n",
       "      <td>2021-06-22</td>\n",
       "      <td>2020-04-14</td>\n",
       "      <td>asset0180</td>\n",
       "    </tr>\n",
       "    <tr>\n",
       "      <th>2</th>\n",
       "      <td>2022-04-29</td>\n",
       "      <td>6F3FF3E3</td>\n",
       "      <td></td>\n",
       "      <td>Very High</td>\n",
       "      <td>0</td>\n",
       "      <td></td>\n",
       "      <td></td>\n",
       "      <td>No</td>\n",
       "      <td>OSPO</td>\n",
       "      <td></td>\n",
       "      <td>...</td>\n",
       "      <td></td>\n",
       "      <td>Resolved</td>\n",
       "      <td>FY5Cv75X8PS9ssxRWfu5xB49vEHlHVy8VLUgIh0t</td>\n",
       "      <td>0</td>\n",
       "      <td>CVE-2023-4863</td>\n",
       "      <td>wHCP2pOw6R</td>\n",
       "      <td>task18815</td>\n",
       "      <td>2023-05-02</td>\n",
       "      <td>2022-04-29</td>\n",
       "      <td>asset0993</td>\n",
       "    </tr>\n",
       "    <tr>\n",
       "      <th>3</th>\n",
       "      <td>2023-08-22</td>\n",
       "      <td>F7D8ABD9</td>\n",
       "      <td></td>\n",
       "      <td>Critiacal</td>\n",
       "      <td>0</td>\n",
       "      <td></td>\n",
       "      <td></td>\n",
       "      <td>No</td>\n",
       "      <td></td>\n",
       "      <td></td>\n",
       "      <td>...</td>\n",
       "      <td></td>\n",
       "      <td>Open</td>\n",
       "      <td>0xJkjzBMHeqpfnul6ZF4CvCgb3XFFNmLC9ddvRcK</td>\n",
       "      <td>0</td>\n",
       "      <td>CVE-2018-1270</td>\n",
       "      <td>LWemhuxYUw</td>\n",
       "      <td>task17012</td>\n",
       "      <td>2023-10-12</td>\n",
       "      <td>2023-08-22</td>\n",
       "      <td>asset0423</td>\n",
       "    </tr>\n",
       "    <tr>\n",
       "      <th>4</th>\n",
       "      <td>2019-09-08</td>\n",
       "      <td>F5DA1603</td>\n",
       "      <td></td>\n",
       "      <td>Very High</td>\n",
       "      <td>0</td>\n",
       "      <td></td>\n",
       "      <td></td>\n",
       "      <td>No</td>\n",
       "      <td></td>\n",
       "      <td></td>\n",
       "      <td>...</td>\n",
       "      <td></td>\n",
       "      <td>In Remediation</td>\n",
       "      <td>ywE0cCGk3GHHnSkdZ8avJrkOQk63l2CZAXQgrhB1</td>\n",
       "      <td>0</td>\n",
       "      <td>CVE-2022-42889</td>\n",
       "      <td>tUmG7rjlzB</td>\n",
       "      <td>task15399</td>\n",
       "      <td>2021-07-17</td>\n",
       "      <td>2019-09-08</td>\n",
       "      <td>asset0432</td>\n",
       "    </tr>\n",
       "  </tbody>\n",
       "</table>\n",
       "<p>5 rows × 31 columns</p>\n",
       "</div>"
      ],
      "text/plain": [
       "  accepted_date       a_id change_ticket risk_level deferred_count  \\\n",
       "0     2021-12-11  DE7B9426        3AA2CD       High              0   \n",
       "1     2020-04-14  795E359F                Very High              0   \n",
       "2     2022-04-29  6F3FF3E3                Very High              0   \n",
       "3     2023-08-22  F7D8ABD9                Critiacal              0   \n",
       "4     2019-09-08  F5DA1603                Very High              0   \n",
       "\n",
       "                                     acceptance_type false_positive_state  \\\n",
       "0  NH3oA6VbCjTNHJOdhG0kS0y6QJD2QhkXyf3RsqdPVai0Pk...                        \n",
       "1                                                                           \n",
       "2                                                                           \n",
       "3                                                                           \n",
       "4                                                                           \n",
       "\n",
       "  existing_patch owner_comments rejection_evidence  ... active_ns_vis  \\\n",
       "0             No                                    ...                 \n",
       "1             No                                    ...                 \n",
       "2             No           OSPO                     ...                 \n",
       "3             No                                    ...                 \n",
       "4             No                                    ...                 \n",
       "\n",
       "       task_state                                 task_desc assignment_count  \\\n",
       "0          Closed  qKSMfjYpN7hmkS1snnSFcwidyySIb0SWijbEpTpU                0   \n",
       "1          Closed  ktHzlPdYY8GGEthwBKhM5DnT3OLefCct9eY2umJ5                0   \n",
       "2        Resolved  FY5Cv75X8PS9ssxRWfu5xB49vEHlHVy8VLUgIh0t                0   \n",
       "3            Open  0xJkjzBMHeqpfnul6ZF4CvCgb3XFFNmLC9ddvRcK                0   \n",
       "4  In Remediation  ywE0cCGk3GHHnSkdZ8avJrkOQk63l2CZAXQgrhB1                0   \n",
       "\n",
       "         cve_code  asgm_group    task_id last_update task_creation_date  \\\n",
       "0  CVE-2022-42889  9zfiCyKDrR  task16382  2023-01-02         2021-12-11   \n",
       "1   CVE-2018-1270  ZFphoGMxgD  task15760  2021-06-22         2020-04-14   \n",
       "2   CVE-2023-4863  wHCP2pOw6R  task18815  2023-05-02         2022-04-29   \n",
       "3   CVE-2018-1270  LWemhuxYUw  task17012  2023-10-12         2023-08-22   \n",
       "4  CVE-2022-42889  tUmG7rjlzB  task15399  2021-07-17         2019-09-08   \n",
       "\n",
       "  asset_identifyer  \n",
       "0        asset0273  \n",
       "1        asset0180  \n",
       "2        asset0993  \n",
       "3        asset0423  \n",
       "4        asset0432  \n",
       "\n",
       "[5 rows x 31 columns]"
      ]
     },
     "execution_count": 15,
     "metadata": {},
     "output_type": "execute_result"
    }
   ],
   "source": [
    "db.head()"
   ]
  },
  {
   "cell_type": "code",
   "execution_count": 19,
   "id": "29cb49d8-fc92-4483-b9f8-a1aa3ad2c824",
   "metadata": {
    "tags": []
   },
   "outputs": [
    {
     "ename": "KeyError",
     "evalue": "'asset_identifier'",
     "output_type": "error",
     "traceback": [
      "\u001b[0;31m---------------------------------------------------------------------------\u001b[0m",
      "\u001b[0;31mKeyError\u001b[0m                                  Traceback (most recent call last)",
      "File \u001b[0;32m/opt/conda/lib/python3.10/site-packages/pandas/core/indexes/base.py:3805\u001b[0m, in \u001b[0;36mIndex.get_loc\u001b[0;34m(self, key)\u001b[0m\n\u001b[1;32m   3804\u001b[0m \u001b[38;5;28;01mtry\u001b[39;00m:\n\u001b[0;32m-> 3805\u001b[0m     \u001b[38;5;28;01mreturn\u001b[39;00m \u001b[38;5;28;43mself\u001b[39;49m\u001b[38;5;241;43m.\u001b[39;49m\u001b[43m_engine\u001b[49m\u001b[38;5;241;43m.\u001b[39;49m\u001b[43mget_loc\u001b[49m\u001b[43m(\u001b[49m\u001b[43mcasted_key\u001b[49m\u001b[43m)\u001b[49m\n\u001b[1;32m   3806\u001b[0m \u001b[38;5;28;01mexcept\u001b[39;00m \u001b[38;5;167;01mKeyError\u001b[39;00m \u001b[38;5;28;01mas\u001b[39;00m err:\n",
      "File \u001b[0;32mindex.pyx:167\u001b[0m, in \u001b[0;36mpandas._libs.index.IndexEngine.get_loc\u001b[0;34m()\u001b[0m\n",
      "File \u001b[0;32mindex.pyx:196\u001b[0m, in \u001b[0;36mpandas._libs.index.IndexEngine.get_loc\u001b[0;34m()\u001b[0m\n",
      "File \u001b[0;32mpandas/_libs/hashtable_class_helper.pxi:7081\u001b[0m, in \u001b[0;36mpandas._libs.hashtable.PyObjectHashTable.get_item\u001b[0;34m()\u001b[0m\n",
      "File \u001b[0;32mpandas/_libs/hashtable_class_helper.pxi:7089\u001b[0m, in \u001b[0;36mpandas._libs.hashtable.PyObjectHashTable.get_item\u001b[0;34m()\u001b[0m\n",
      "\u001b[0;31mKeyError\u001b[0m: 'asset_identifier'",
      "\nThe above exception was the direct cause of the following exception:\n",
      "\u001b[0;31mKeyError\u001b[0m                                  Traceback (most recent call last)",
      "Cell \u001b[0;32mIn[19], line 1\u001b[0m\n\u001b[0;32m----> 1\u001b[0m db_two[\u001b[43mdb_two\u001b[49m\u001b[43m[\u001b[49m\u001b[38;5;124;43m'\u001b[39;49m\u001b[38;5;124;43masset_identifier\u001b[39;49m\u001b[38;5;124;43m'\u001b[39;49m\u001b[43m]\u001b[49m]\n",
      "File \u001b[0;32m/opt/conda/lib/python3.10/site-packages/pandas/core/frame.py:4102\u001b[0m, in \u001b[0;36mDataFrame.__getitem__\u001b[0;34m(self, key)\u001b[0m\n\u001b[1;32m   4100\u001b[0m \u001b[38;5;28;01mif\u001b[39;00m \u001b[38;5;28mself\u001b[39m\u001b[38;5;241m.\u001b[39mcolumns\u001b[38;5;241m.\u001b[39mnlevels \u001b[38;5;241m>\u001b[39m \u001b[38;5;241m1\u001b[39m:\n\u001b[1;32m   4101\u001b[0m     \u001b[38;5;28;01mreturn\u001b[39;00m \u001b[38;5;28mself\u001b[39m\u001b[38;5;241m.\u001b[39m_getitem_multilevel(key)\n\u001b[0;32m-> 4102\u001b[0m indexer \u001b[38;5;241m=\u001b[39m \u001b[38;5;28;43mself\u001b[39;49m\u001b[38;5;241;43m.\u001b[39;49m\u001b[43mcolumns\u001b[49m\u001b[38;5;241;43m.\u001b[39;49m\u001b[43mget_loc\u001b[49m\u001b[43m(\u001b[49m\u001b[43mkey\u001b[49m\u001b[43m)\u001b[49m\n\u001b[1;32m   4103\u001b[0m \u001b[38;5;28;01mif\u001b[39;00m is_integer(indexer):\n\u001b[1;32m   4104\u001b[0m     indexer \u001b[38;5;241m=\u001b[39m [indexer]\n",
      "File \u001b[0;32m/opt/conda/lib/python3.10/site-packages/pandas/core/indexes/base.py:3812\u001b[0m, in \u001b[0;36mIndex.get_loc\u001b[0;34m(self, key)\u001b[0m\n\u001b[1;32m   3807\u001b[0m     \u001b[38;5;28;01mif\u001b[39;00m \u001b[38;5;28misinstance\u001b[39m(casted_key, \u001b[38;5;28mslice\u001b[39m) \u001b[38;5;129;01mor\u001b[39;00m (\n\u001b[1;32m   3808\u001b[0m         \u001b[38;5;28misinstance\u001b[39m(casted_key, abc\u001b[38;5;241m.\u001b[39mIterable)\n\u001b[1;32m   3809\u001b[0m         \u001b[38;5;129;01mand\u001b[39;00m \u001b[38;5;28many\u001b[39m(\u001b[38;5;28misinstance\u001b[39m(x, \u001b[38;5;28mslice\u001b[39m) \u001b[38;5;28;01mfor\u001b[39;00m x \u001b[38;5;129;01min\u001b[39;00m casted_key)\n\u001b[1;32m   3810\u001b[0m     ):\n\u001b[1;32m   3811\u001b[0m         \u001b[38;5;28;01mraise\u001b[39;00m InvalidIndexError(key)\n\u001b[0;32m-> 3812\u001b[0m     \u001b[38;5;28;01mraise\u001b[39;00m \u001b[38;5;167;01mKeyError\u001b[39;00m(key) \u001b[38;5;28;01mfrom\u001b[39;00m \u001b[38;5;21;01merr\u001b[39;00m\n\u001b[1;32m   3813\u001b[0m \u001b[38;5;28;01mexcept\u001b[39;00m \u001b[38;5;167;01mTypeError\u001b[39;00m:\n\u001b[1;32m   3814\u001b[0m     \u001b[38;5;66;03m# If we have a listlike key, _check_indexing_error will raise\u001b[39;00m\n\u001b[1;32m   3815\u001b[0m     \u001b[38;5;66;03m#  InvalidIndexError. Otherwise we fall through and re-raise\u001b[39;00m\n\u001b[1;32m   3816\u001b[0m     \u001b[38;5;66;03m#  the TypeError.\u001b[39;00m\n\u001b[1;32m   3817\u001b[0m     \u001b[38;5;28mself\u001b[39m\u001b[38;5;241m.\u001b[39m_check_indexing_error(key)\n",
      "\u001b[0;31mKeyError\u001b[0m: 'asset_identifier'"
     ]
    }
   ],
   "source": [
    "db_two[db_two['asset_identifier']]"
   ]
  },
  {
   "cell_type": "code",
   "execution_count": null,
   "id": "c925a6cd-d640-4a59-9c81-378653dbac17",
   "metadata": {},
   "outputs": [],
   "source": []
  }
 ],
 "metadata": {
  "availableInstances": [
   {
    "_defaultOrder": 0,
    "_isFastLaunch": true,
    "category": "General purpose",
    "gpuNum": 0,
    "hideHardwareSpecs": false,
    "memoryGiB": 4,
    "name": "ml.t3.medium",
    "vcpuNum": 2
   },
   {
    "_defaultOrder": 1,
    "_isFastLaunch": false,
    "category": "General purpose",
    "gpuNum": 0,
    "hideHardwareSpecs": false,
    "memoryGiB": 8,
    "name": "ml.t3.large",
    "vcpuNum": 2
   },
   {
    "_defaultOrder": 2,
    "_isFastLaunch": false,
    "category": "General purpose",
    "gpuNum": 0,
    "hideHardwareSpecs": false,
    "memoryGiB": 16,
    "name": "ml.t3.xlarge",
    "vcpuNum": 4
   },
   {
    "_defaultOrder": 3,
    "_isFastLaunch": false,
    "category": "General purpose",
    "gpuNum": 0,
    "hideHardwareSpecs": false,
    "memoryGiB": 32,
    "name": "ml.t3.2xlarge",
    "vcpuNum": 8
   },
   {
    "_defaultOrder": 4,
    "_isFastLaunch": true,
    "category": "General purpose",
    "gpuNum": 0,
    "hideHardwareSpecs": false,
    "memoryGiB": 8,
    "name": "ml.m5.large",
    "vcpuNum": 2
   },
   {
    "_defaultOrder": 5,
    "_isFastLaunch": false,
    "category": "General purpose",
    "gpuNum": 0,
    "hideHardwareSpecs": false,
    "memoryGiB": 16,
    "name": "ml.m5.xlarge",
    "vcpuNum": 4
   },
   {
    "_defaultOrder": 6,
    "_isFastLaunch": false,
    "category": "General purpose",
    "gpuNum": 0,
    "hideHardwareSpecs": false,
    "memoryGiB": 32,
    "name": "ml.m5.2xlarge",
    "vcpuNum": 8
   },
   {
    "_defaultOrder": 7,
    "_isFastLaunch": false,
    "category": "General purpose",
    "gpuNum": 0,
    "hideHardwareSpecs": false,
    "memoryGiB": 64,
    "name": "ml.m5.4xlarge",
    "vcpuNum": 16
   },
   {
    "_defaultOrder": 8,
    "_isFastLaunch": false,
    "category": "General purpose",
    "gpuNum": 0,
    "hideHardwareSpecs": false,
    "memoryGiB": 128,
    "name": "ml.m5.8xlarge",
    "vcpuNum": 32
   },
   {
    "_defaultOrder": 9,
    "_isFastLaunch": false,
    "category": "General purpose",
    "gpuNum": 0,
    "hideHardwareSpecs": false,
    "memoryGiB": 192,
    "name": "ml.m5.12xlarge",
    "vcpuNum": 48
   },
   {
    "_defaultOrder": 10,
    "_isFastLaunch": false,
    "category": "General purpose",
    "gpuNum": 0,
    "hideHardwareSpecs": false,
    "memoryGiB": 256,
    "name": "ml.m5.16xlarge",
    "vcpuNum": 64
   },
   {
    "_defaultOrder": 11,
    "_isFastLaunch": false,
    "category": "General purpose",
    "gpuNum": 0,
    "hideHardwareSpecs": false,
    "memoryGiB": 384,
    "name": "ml.m5.24xlarge",
    "vcpuNum": 96
   },
   {
    "_defaultOrder": 12,
    "_isFastLaunch": false,
    "category": "General purpose",
    "gpuNum": 0,
    "hideHardwareSpecs": false,
    "memoryGiB": 8,
    "name": "ml.m5d.large",
    "vcpuNum": 2
   },
   {
    "_defaultOrder": 13,
    "_isFastLaunch": false,
    "category": "General purpose",
    "gpuNum": 0,
    "hideHardwareSpecs": false,
    "memoryGiB": 16,
    "name": "ml.m5d.xlarge",
    "vcpuNum": 4
   },
   {
    "_defaultOrder": 14,
    "_isFastLaunch": false,
    "category": "General purpose",
    "gpuNum": 0,
    "hideHardwareSpecs": false,
    "memoryGiB": 32,
    "name": "ml.m5d.2xlarge",
    "vcpuNum": 8
   },
   {
    "_defaultOrder": 15,
    "_isFastLaunch": false,
    "category": "General purpose",
    "gpuNum": 0,
    "hideHardwareSpecs": false,
    "memoryGiB": 64,
    "name": "ml.m5d.4xlarge",
    "vcpuNum": 16
   },
   {
    "_defaultOrder": 16,
    "_isFastLaunch": false,
    "category": "General purpose",
    "gpuNum": 0,
    "hideHardwareSpecs": false,
    "memoryGiB": 128,
    "name": "ml.m5d.8xlarge",
    "vcpuNum": 32
   },
   {
    "_defaultOrder": 17,
    "_isFastLaunch": false,
    "category": "General purpose",
    "gpuNum": 0,
    "hideHardwareSpecs": false,
    "memoryGiB": 192,
    "name": "ml.m5d.12xlarge",
    "vcpuNum": 48
   },
   {
    "_defaultOrder": 18,
    "_isFastLaunch": false,
    "category": "General purpose",
    "gpuNum": 0,
    "hideHardwareSpecs": false,
    "memoryGiB": 256,
    "name": "ml.m5d.16xlarge",
    "vcpuNum": 64
   },
   {
    "_defaultOrder": 19,
    "_isFastLaunch": false,
    "category": "General purpose",
    "gpuNum": 0,
    "hideHardwareSpecs": false,
    "memoryGiB": 384,
    "name": "ml.m5d.24xlarge",
    "vcpuNum": 96
   },
   {
    "_defaultOrder": 20,
    "_isFastLaunch": false,
    "category": "General purpose",
    "gpuNum": 0,
    "hideHardwareSpecs": true,
    "memoryGiB": 0,
    "name": "ml.geospatial.interactive",
    "supportedImageNames": [
     "sagemaker-geospatial-v1-0"
    ],
    "vcpuNum": 0
   },
   {
    "_defaultOrder": 21,
    "_isFastLaunch": true,
    "category": "Compute optimized",
    "gpuNum": 0,
    "hideHardwareSpecs": false,
    "memoryGiB": 4,
    "name": "ml.c5.large",
    "vcpuNum": 2
   },
   {
    "_defaultOrder": 22,
    "_isFastLaunch": false,
    "category": "Compute optimized",
    "gpuNum": 0,
    "hideHardwareSpecs": false,
    "memoryGiB": 8,
    "name": "ml.c5.xlarge",
    "vcpuNum": 4
   },
   {
    "_defaultOrder": 23,
    "_isFastLaunch": false,
    "category": "Compute optimized",
    "gpuNum": 0,
    "hideHardwareSpecs": false,
    "memoryGiB": 16,
    "name": "ml.c5.2xlarge",
    "vcpuNum": 8
   },
   {
    "_defaultOrder": 24,
    "_isFastLaunch": false,
    "category": "Compute optimized",
    "gpuNum": 0,
    "hideHardwareSpecs": false,
    "memoryGiB": 32,
    "name": "ml.c5.4xlarge",
    "vcpuNum": 16
   },
   {
    "_defaultOrder": 25,
    "_isFastLaunch": false,
    "category": "Compute optimized",
    "gpuNum": 0,
    "hideHardwareSpecs": false,
    "memoryGiB": 72,
    "name": "ml.c5.9xlarge",
    "vcpuNum": 36
   },
   {
    "_defaultOrder": 26,
    "_isFastLaunch": false,
    "category": "Compute optimized",
    "gpuNum": 0,
    "hideHardwareSpecs": false,
    "memoryGiB": 96,
    "name": "ml.c5.12xlarge",
    "vcpuNum": 48
   },
   {
    "_defaultOrder": 27,
    "_isFastLaunch": false,
    "category": "Compute optimized",
    "gpuNum": 0,
    "hideHardwareSpecs": false,
    "memoryGiB": 144,
    "name": "ml.c5.18xlarge",
    "vcpuNum": 72
   },
   {
    "_defaultOrder": 28,
    "_isFastLaunch": false,
    "category": "Compute optimized",
    "gpuNum": 0,
    "hideHardwareSpecs": false,
    "memoryGiB": 192,
    "name": "ml.c5.24xlarge",
    "vcpuNum": 96
   },
   {
    "_defaultOrder": 29,
    "_isFastLaunch": true,
    "category": "Accelerated computing",
    "gpuNum": 1,
    "hideHardwareSpecs": false,
    "memoryGiB": 16,
    "name": "ml.g4dn.xlarge",
    "vcpuNum": 4
   },
   {
    "_defaultOrder": 30,
    "_isFastLaunch": false,
    "category": "Accelerated computing",
    "gpuNum": 1,
    "hideHardwareSpecs": false,
    "memoryGiB": 32,
    "name": "ml.g4dn.2xlarge",
    "vcpuNum": 8
   },
   {
    "_defaultOrder": 31,
    "_isFastLaunch": false,
    "category": "Accelerated computing",
    "gpuNum": 1,
    "hideHardwareSpecs": false,
    "memoryGiB": 64,
    "name": "ml.g4dn.4xlarge",
    "vcpuNum": 16
   },
   {
    "_defaultOrder": 32,
    "_isFastLaunch": false,
    "category": "Accelerated computing",
    "gpuNum": 1,
    "hideHardwareSpecs": false,
    "memoryGiB": 128,
    "name": "ml.g4dn.8xlarge",
    "vcpuNum": 32
   },
   {
    "_defaultOrder": 33,
    "_isFastLaunch": false,
    "category": "Accelerated computing",
    "gpuNum": 4,
    "hideHardwareSpecs": false,
    "memoryGiB": 192,
    "name": "ml.g4dn.12xlarge",
    "vcpuNum": 48
   },
   {
    "_defaultOrder": 34,
    "_isFastLaunch": false,
    "category": "Accelerated computing",
    "gpuNum": 1,
    "hideHardwareSpecs": false,
    "memoryGiB": 256,
    "name": "ml.g4dn.16xlarge",
    "vcpuNum": 64
   },
   {
    "_defaultOrder": 35,
    "_isFastLaunch": false,
    "category": "Accelerated computing",
    "gpuNum": 1,
    "hideHardwareSpecs": false,
    "memoryGiB": 61,
    "name": "ml.p3.2xlarge",
    "vcpuNum": 8
   },
   {
    "_defaultOrder": 36,
    "_isFastLaunch": false,
    "category": "Accelerated computing",
    "gpuNum": 4,
    "hideHardwareSpecs": false,
    "memoryGiB": 244,
    "name": "ml.p3.8xlarge",
    "vcpuNum": 32
   },
   {
    "_defaultOrder": 37,
    "_isFastLaunch": false,
    "category": "Accelerated computing",
    "gpuNum": 8,
    "hideHardwareSpecs": false,
    "memoryGiB": 488,
    "name": "ml.p3.16xlarge",
    "vcpuNum": 64
   },
   {
    "_defaultOrder": 38,
    "_isFastLaunch": false,
    "category": "Accelerated computing",
    "gpuNum": 8,
    "hideHardwareSpecs": false,
    "memoryGiB": 768,
    "name": "ml.p3dn.24xlarge",
    "vcpuNum": 96
   },
   {
    "_defaultOrder": 39,
    "_isFastLaunch": false,
    "category": "Memory Optimized",
    "gpuNum": 0,
    "hideHardwareSpecs": false,
    "memoryGiB": 16,
    "name": "ml.r5.large",
    "vcpuNum": 2
   },
   {
    "_defaultOrder": 40,
    "_isFastLaunch": false,
    "category": "Memory Optimized",
    "gpuNum": 0,
    "hideHardwareSpecs": false,
    "memoryGiB": 32,
    "name": "ml.r5.xlarge",
    "vcpuNum": 4
   },
   {
    "_defaultOrder": 41,
    "_isFastLaunch": false,
    "category": "Memory Optimized",
    "gpuNum": 0,
    "hideHardwareSpecs": false,
    "memoryGiB": 64,
    "name": "ml.r5.2xlarge",
    "vcpuNum": 8
   },
   {
    "_defaultOrder": 42,
    "_isFastLaunch": false,
    "category": "Memory Optimized",
    "gpuNum": 0,
    "hideHardwareSpecs": false,
    "memoryGiB": 128,
    "name": "ml.r5.4xlarge",
    "vcpuNum": 16
   },
   {
    "_defaultOrder": 43,
    "_isFastLaunch": false,
    "category": "Memory Optimized",
    "gpuNum": 0,
    "hideHardwareSpecs": false,
    "memoryGiB": 256,
    "name": "ml.r5.8xlarge",
    "vcpuNum": 32
   },
   {
    "_defaultOrder": 44,
    "_isFastLaunch": false,
    "category": "Memory Optimized",
    "gpuNum": 0,
    "hideHardwareSpecs": false,
    "memoryGiB": 384,
    "name": "ml.r5.12xlarge",
    "vcpuNum": 48
   },
   {
    "_defaultOrder": 45,
    "_isFastLaunch": false,
    "category": "Memory Optimized",
    "gpuNum": 0,
    "hideHardwareSpecs": false,
    "memoryGiB": 512,
    "name": "ml.r5.16xlarge",
    "vcpuNum": 64
   },
   {
    "_defaultOrder": 46,
    "_isFastLaunch": false,
    "category": "Memory Optimized",
    "gpuNum": 0,
    "hideHardwareSpecs": false,
    "memoryGiB": 768,
    "name": "ml.r5.24xlarge",
    "vcpuNum": 96
   },
   {
    "_defaultOrder": 47,
    "_isFastLaunch": false,
    "category": "Accelerated computing",
    "gpuNum": 1,
    "hideHardwareSpecs": false,
    "memoryGiB": 16,
    "name": "ml.g5.xlarge",
    "vcpuNum": 4
   },
   {
    "_defaultOrder": 48,
    "_isFastLaunch": false,
    "category": "Accelerated computing",
    "gpuNum": 1,
    "hideHardwareSpecs": false,
    "memoryGiB": 32,
    "name": "ml.g5.2xlarge",
    "vcpuNum": 8
   },
   {
    "_defaultOrder": 49,
    "_isFastLaunch": false,
    "category": "Accelerated computing",
    "gpuNum": 1,
    "hideHardwareSpecs": false,
    "memoryGiB": 64,
    "name": "ml.g5.4xlarge",
    "vcpuNum": 16
   },
   {
    "_defaultOrder": 50,
    "_isFastLaunch": false,
    "category": "Accelerated computing",
    "gpuNum": 1,
    "hideHardwareSpecs": false,
    "memoryGiB": 128,
    "name": "ml.g5.8xlarge",
    "vcpuNum": 32
   },
   {
    "_defaultOrder": 51,
    "_isFastLaunch": false,
    "category": "Accelerated computing",
    "gpuNum": 1,
    "hideHardwareSpecs": false,
    "memoryGiB": 256,
    "name": "ml.g5.16xlarge",
    "vcpuNum": 64
   },
   {
    "_defaultOrder": 52,
    "_isFastLaunch": false,
    "category": "Accelerated computing",
    "gpuNum": 4,
    "hideHardwareSpecs": false,
    "memoryGiB": 192,
    "name": "ml.g5.12xlarge",
    "vcpuNum": 48
   },
   {
    "_defaultOrder": 53,
    "_isFastLaunch": false,
    "category": "Accelerated computing",
    "gpuNum": 4,
    "hideHardwareSpecs": false,
    "memoryGiB": 384,
    "name": "ml.g5.24xlarge",
    "vcpuNum": 96
   },
   {
    "_defaultOrder": 54,
    "_isFastLaunch": false,
    "category": "Accelerated computing",
    "gpuNum": 8,
    "hideHardwareSpecs": false,
    "memoryGiB": 768,
    "name": "ml.g5.48xlarge",
    "vcpuNum": 192
   },
   {
    "_defaultOrder": 55,
    "_isFastLaunch": false,
    "category": "Accelerated computing",
    "gpuNum": 8,
    "hideHardwareSpecs": false,
    "memoryGiB": 1152,
    "name": "ml.p4d.24xlarge",
    "vcpuNum": 96
   },
   {
    "_defaultOrder": 56,
    "_isFastLaunch": false,
    "category": "Accelerated computing",
    "gpuNum": 8,
    "hideHardwareSpecs": false,
    "memoryGiB": 1152,
    "name": "ml.p4de.24xlarge",
    "vcpuNum": 96
   },
   {
    "_defaultOrder": 57,
    "_isFastLaunch": false,
    "category": "Accelerated computing",
    "gpuNum": 0,
    "hideHardwareSpecs": false,
    "memoryGiB": 32,
    "name": "ml.trn1.2xlarge",
    "vcpuNum": 8
   },
   {
    "_defaultOrder": 58,
    "_isFastLaunch": false,
    "category": "Accelerated computing",
    "gpuNum": 0,
    "hideHardwareSpecs": false,
    "memoryGiB": 512,
    "name": "ml.trn1.32xlarge",
    "vcpuNum": 128
   },
   {
    "_defaultOrder": 59,
    "_isFastLaunch": false,
    "category": "Accelerated computing",
    "gpuNum": 0,
    "hideHardwareSpecs": false,
    "memoryGiB": 512,
    "name": "ml.trn1n.32xlarge",
    "vcpuNum": 128
   }
  ],
  "instance_type": "ml.t3.medium",
  "kernelspec": {
   "display_name": "Python 3 (Data Science 3.0)",
   "language": "python",
   "name": "python3__SAGEMAKER_INTERNAL__arn:aws:sagemaker:us-east-1:081325390199:image/sagemaker-data-science-310-v1"
  },
  "language_info": {
   "codemirror_mode": {
    "name": "ipython",
    "version": 3
   },
   "file_extension": ".py",
   "mimetype": "text/x-python",
   "name": "python",
   "nbconvert_exporter": "python",
   "pygments_lexer": "ipython3",
   "version": "3.10.6"
  }
 },
 "nbformat": 4,
 "nbformat_minor": 5
}
