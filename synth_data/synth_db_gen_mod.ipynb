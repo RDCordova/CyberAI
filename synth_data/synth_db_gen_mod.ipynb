{
 "cells": [
  {
   "cell_type": "markdown",
   "id": "e223023c-5c30-4a38-a2d2-b3bb481b4f2e",
   "metadata": {},
   "source": [
    "##  Synthetic Database Gen"
   ]
  },
  {
   "cell_type": "code",
   "execution_count": 6,
   "id": "ded84c3e-d673-4e71-b3d8-d76e946861a0",
   "metadata": {
    "tags": []
   },
   "outputs": [],
   "source": [
    "import sqlite3\n",
    "import csv \n",
    "import pandas as pd"
   ]
  },
  {
   "cell_type": "code",
   "execution_count": 7,
   "id": "78fd9bef-c734-45b9-af78-2e9eb19bd262",
   "metadata": {
    "tags": []
   },
   "outputs": [],
   "source": [
    "db = pd.read_csv('v_task.csv')\n",
    "db = db.drop(464)\n",
    "db = db.drop(columns=['task_closed_date'])\n",
    "\n",
    "#replace nan with \" \"\n",
    "db = db.fillna(\" \")\n",
    "db.isna().sum()\n",
    "\n",
    "#change to datetime objects \n",
    "db['accepted_date '] = pd.to_datetime(db['accepted_date '],format='mixed').dt.date\n",
    "db['completion_date'] = pd.to_datetime(db['completion_date'],format='mixed').dt.date\n",
    "db['status_date'] = pd.to_datetime(db['status_date'],format='mixed').dt.date\n",
    "db['last_update'] = pd.to_datetime(db['last_update'],format='mixed').dt.date\n",
    "db['task_creation_date'] = pd.to_datetime(db['task_creation_date'],format='mixed').dt.date\n",
    "\n"
   ]
  },
  {
   "cell_type": "code",
   "execution_count": 8,
   "id": "01aab490-8b8b-45b3-975e-c8a89b77d75f",
   "metadata": {
    "tags": []
   },
   "outputs": [],
   "source": [
    "db.to_csv('v_task_new.csv',index=False)"
   ]
  },
  {
   "cell_type": "code",
   "execution_count": 9,
   "id": "764d997d-5eec-4b93-ab46-a22c779e7062",
   "metadata": {
    "tags": []
   },
   "outputs": [
    {
     "name": "stdout",
     "output_type": "stream",
     "text": [
      "Data from v_task_new.csv has been successfully imported into snyth.db\n"
     ]
    }
   ],
   "source": [
    "#vulnerability synth\n",
    "\n",
    "#define the input csv and the sqlite database file\n",
    "imput_csv = 'v_task_new.csv'\n",
    "database_file = 'snyth.db'\n",
    "\n",
    "#connect to SQLite databsse \n",
    "conn = sqlite3.connect(database_file)\n",
    "cursor = conn.cursor()\n",
    "\n",
    "#create a table to store the data \n",
    "cursor.execute(\"\"\"CREATE TABLE IF NOT EXISTS vulnerability (\n",
    "                    accepted_date date,\n",
    "                    accepted varchar(512),\n",
    "                    change_ticket varchar(512),\n",
    "                    risk_level varchar(512),\n",
    "                    deferred_count varchar(512),\n",
    "                    acceptance_type varchar(512),\n",
    "                    false_positive_state varchar(512),\n",
    "                    existing_patch varchar(512),\n",
    "                    owner_comments varchar(512),\n",
    "                    rejection_evidence varchar(512),\n",
    "                    remediation_comments varchar(512),\n",
    "                    completion_date date,\n",
    "                    remediation_plan varchar(512),\n",
    "                    remediation_proof varchar(512),\n",
    "                    approch_used varchar(512),\n",
    "                    vulnerability_source varchar(512),\n",
    "                    status_date date,\n",
    "                    unique_id varchar(512),\n",
    "                    total_nd_vis_count int,\n",
    "                    total_vis_count int,\n",
    "                    active_vis int,\n",
    "                    active_ns_vis int,\n",
    "                    task_state varchar(512),\n",
    "                    task_desc varchar(512),\n",
    "                    assignment_count int,\n",
    "                    cve_code varchar(512),\n",
    "                    asgm_group varchar(512),\n",
    "                    task_id varchar(512),\n",
    "                    last_update date,\n",
    "                    task_creation_date date,\n",
    "                    asset_identifyer varchar(512))\"\"\")\n",
    "\n",
    "#Read data from the csv file and insert it into the Sqlite table \n",
    "with open(imput_csv, 'r',newline='') as csvfile:\n",
    "    csv_reader = csv.reader(csvfile)\n",
    "    next(csv_reader) #skip the header row\n",
    "    \n",
    "    for row in csv_reader:\n",
    "        cursor.execute(\"\"\"INSERT INTO vulnerability VALUES(\n",
    "                            ?,\n",
    "                            ?,\n",
    "                            ?,\n",
    "                            ?,\n",
    "                            ?,\n",
    "                            ?,\n",
    "                            ?,\n",
    "                            ?,\n",
    "                            ?,\n",
    "                            ?,\n",
    "                            ?,\n",
    "                            ?,\n",
    "                            ?,\n",
    "                            ?,\n",
    "                            ?,\n",
    "                            ?,\n",
    "                            ?,\n",
    "                            ?,\n",
    "                            ?,\n",
    "                            ?,\n",
    "                            ?,\n",
    "                            ?,\n",
    "                            ?,\n",
    "                            ?,\n",
    "                            ?,\n",
    "                            ?,\n",
    "                            ?,\n",
    "                            ?,\n",
    "                            ?,\n",
    "                            ?,\n",
    "                            ?)\"\"\", row)\n",
    "conn.commit()\n",
    "conn.close()\n",
    "\n",
    "print(f'Data from {imput_csv} has been successfully imported into {database_file}')"
   ]
  },
  {
   "cell_type": "code",
   "execution_count": 10,
   "id": "938f7074-4900-459b-bf50-31e240d8dab5",
   "metadata": {
    "tags": []
   },
   "outputs": [
    {
     "name": "stdout",
     "output_type": "stream",
     "text": [
      "['record', 'bus_process', 'prot_type', 'data_cetner', 'mant_all', 'mant_first', 'mant_fourth', 'expected_yr', 'expeced_qtr', 'locatal_resiliance', 'location', 'platform_type', 'recover_cap', 'recover_cap_rtc', 'retirement_start', 'retirement_target', 'vender_name', 'aws_version', 'cloud_date', 'asset_rate', 'data_id', 'research_asset', 'vender_name_other', 'sox_date', 'business_id', 'business_justification', 'recovery_proprty', 'critiacal_cyber', 'cloud_only', 'prem_only', 'enterprise_bu', 'lowest_rpo', 'lowest_rto', 'data_approch', 'subrec']\n"
     ]
    },
    {
     "name": "stderr",
     "output_type": "stream",
     "text": [
      "/tmp/ipykernel_4181/2035210127.py:19: FutureWarning: DataFrame.fillna with 'method' is deprecated and will raise in a future version. Use obj.ffill() or obj.bfill() instead.\n",
      "  db_two = db_two.fillna(method='ffill')\n"
     ]
    }
   ],
   "source": [
    "db_two = pd.read_csv('bar_synth.csv')\n",
    "\n",
    "#change to datetime objects \n",
    "db_two['retire_date'] = pd.to_datetime(db_two['retire_date'],format='mixed').dt.date\n",
    "db_two['lto_one'] = pd.to_datetime(db_two['lto_one'],format='mixed').dt.date\n",
    "db_two['lto_two'] = pd.to_datetime(db_two['lto_two'],format='mixed').dt.date\n",
    "db_two['lto_three'] = pd.to_datetime(db_two['lto_three'],format='mixed').dt.date\n",
    "db_two['lto_four'] = pd.to_datetime(db_two['lto_four'],format='mixed').dt.date\n",
    "db_two['lto_five'] = pd.to_datetime(db_two['lto_five'],format='mixed').dt.date\n",
    "db_two['deplot_date'] = pd.to_datetime(db_two['deplot_date'],format='mixed').dt.date\n",
    "db_two['mait_time'] = pd.to_datetime(db_two['mait_time'],format='mixed').dt.date\n",
    "db_two['production_date'] = pd.to_datetime(db_two['production_date'],format='mixed').dt.date\n",
    "db_two['retirement_start'] = pd.to_datetime(db_two['retirement_start'],format='mixed').dt.date\n",
    "db_two['retirement_target'] = pd.to_datetime(db_two['retirement_target'],format='mixed').dt.date\n",
    "db_two['cloud_date'] = pd.to_datetime(db_two['cloud_date'],format='mixed').dt.date\n",
    "db_two['sox_date'] = pd.to_datetime(db_two['sox_date'],format='mixed').dt.date\n",
    "\n",
    "#replace nan with \" \"\n",
    "db_two = db_two.fillna(method='ffill')\n",
    "print(db_two.columns[db_two.isna().any()].tolist())\n",
    "db_two = db_two.drop(columns=db_two.columns[db_two.isna().any()].tolist())\n",
    "db_two.to_csv('bar_synth_new.csv',index=False)"
   ]
  },
  {
   "cell_type": "code",
   "execution_count": 11,
   "id": "e7a42bd0-bad8-4a07-8d83-5a68b3927676",
   "metadata": {
    "tags": []
   },
   "outputs": [
    {
     "data": {
      "text/plain": [
       "(999, 61)"
      ]
     },
     "execution_count": 11,
     "metadata": {},
     "output_type": "execute_result"
    }
   ],
   "source": [
    "db_two.shape"
   ]
  },
  {
   "cell_type": "code",
   "execution_count": 12,
   "id": "b6d1a41c-a1f8-4732-8663-e5aa5ffb4078",
   "metadata": {
    "tags": []
   },
   "outputs": [
    {
     "name": "stdout",
     "output_type": "stream",
     "text": [
      "0\n",
      "0\n",
      "0\n",
      "0\n",
      "0\n",
      "0\n",
      "0\n",
      "0\n",
      "0\n",
      "0\n",
      "0\n",
      "0\n",
      "0\n",
      "0\n",
      "0\n",
      "0\n",
      "0\n",
      "0\n",
      "0\n",
      "0\n",
      "0\n",
      "0\n",
      "0\n",
      "0\n",
      "0\n",
      "0\n",
      "0\n",
      "0\n",
      "0\n",
      "0\n",
      "0\n",
      "0\n",
      "0\n",
      "0\n",
      "0\n",
      "0\n",
      "0\n",
      "0\n",
      "0\n",
      "0\n",
      "0\n",
      "0\n",
      "0\n",
      "0\n",
      "0\n",
      "0\n",
      "0\n",
      "0\n",
      "0\n",
      "0\n",
      "0\n",
      "0\n",
      "0\n",
      "0\n",
      "0\n",
      "0\n",
      "0\n",
      "0\n",
      "0\n",
      "0\n",
      "0\n"
     ]
    }
   ],
   "source": [
    "for i in db_two.isna().sum():\n",
    "    print(i)"
   ]
  },
  {
   "cell_type": "code",
   "execution_count": 13,
   "id": "97c27c1b-6c76-4f9c-94b1-f8fd7425b772",
   "metadata": {},
   "outputs": [
    {
     "name": "stdout",
     "output_type": "stream",
     "text": [
      "Data from bar_synth_new.csv has been successfully imported into snyth.db\n"
     ]
    }
   ],
   "source": [
    "#bar synth\n",
    "\n",
    "#define the input csv and the sqlite database file\n",
    "imput_csv = 'bar_synth_new.csv'\n",
    "database_file = 'snyth.db'\n",
    "\n",
    "#connect to SQLite databsse \n",
    "conn = sqlite3.connect(database_file)\n",
    "cursor = conn.cursor()\n",
    "\n",
    "#create a table to store the data \n",
    "cursor.execute(\"\"\"CREATE TABLE IF NOT EXISTS registry (\n",
    "                    uniq_id varchar(32),\t\n",
    "                    retire_date date,\n",
    "                    crit varchar(40),\t\t\n",
    "                    fcc_group_id varchar(32),\t\n",
    "                    fcc_group varchar(32),\t\n",
    "                    db_bus_approver varchar(32),\t\n",
    "                    db_tech_approver varchar(32),\t\n",
    "                    app_platform varchar(2000),\t\n",
    "                    lto_one date,\t\n",
    "                    lto_two date,\t\n",
    "                    lto_three date,\t\n",
    "                    lto_four date,\t\n",
    "                    lto_five date,\t\n",
    "                    model_asset varchar(40),\t\n",
    "                    npi_type varchar(2000),\t\t\n",
    "                    recovery_group varchar(40),\t\n",
    "                    shared_service varchar(40),\t\t\n",
    "                    mant_done varchar(40),\t\n",
    "                    mant_none varchar(40),\t\n",
    "                    mant_other varchar(40),\t\n",
    "                    mant_secound varchar(40),\t\n",
    "                    deplot_date date,\t\n",
    "                    asset_identifyer varchar(40),\t\n",
    "                    asset_status varchar(80),\t\n",
    "                    asset_type varchar(40),\t\n",
    "                    bhs_classifcation varchar(40),\t\n",
    "                    bhs_rationale varchar(1000),\t\n",
    "                    bhisomess_facing varchar(40),\t\n",
    "                    confidental_info varchar(40),\t\n",
    "                    cots_product varchar(40),\t\n",
    "                    critcal_facing varchar(40),\t\n",
    "                    crown_jewel varchar(40),\t\n",
    "                    version varchar(40),\t\n",
    "                    goverance_rating varchar(40),\t\n",
    "                    desc varchar(20000),\t\n",
    "                    maint_desc varchar(1000),\t\n",
    "                    eu_path varchar(500),\t\n",
    "                    exteranl_facing varchar(40),\t\n",
    "                    hamp varchar(40),\t\n",
    "                    info_class varchar(40),\t\n",
    "                    is_platform varchar(40),\t\n",
    "                    l1_grp varchar(40),\t\n",
    "                    l15_grp varchar(40),\t\n",
    "                    l2_grp varchar(40),\t\n",
    "                    l3_grp varchar(40),\t\t\n",
    "                    mait_days varchar(2000),\t\n",
    "                    mait_frq varchar(40),\t\n",
    "                    mait_time date,\t\n",
    "                    confidental_npi varchar(40),\t\n",
    "                    other_lang varchar(40),\t\n",
    "                    passing_data varchar(40),\t\n",
    "                    primary_language varchar(40),\t\n",
    "                    production_date date,\t\n",
    "                    recover_cap varchar(40),\t\t\n",
    "                    recover_time_hours varchar(40),\t\n",
    "                    shared_system varchar(40),\t\n",
    "                    software_name varchar(40),\t\n",
    "                    sox_relevane varchar(40),\t\n",
    "                    tech_prot varchar(40),\t\n",
    "                    maint_thrid varchar(40),\t\t\n",
    "                    bus_capability varchar(4000))\"\"\")\n",
    "\n",
    "\n",
    "#Read data from the csv file and insert it into the Sqlite table \n",
    "with open(imput_csv, 'r',newline='') as csvfile:\n",
    "    csv_reader = csv.reader(csvfile)\n",
    "    next(csv_reader) #skip the header row\n",
    "    \n",
    "    for row in csv_reader:\n",
    "        cursor.execute(\"\"\"INSERT INTO registry VALUES(\n",
    "                            ?,\n",
    "                            ?,\n",
    "                            ?,\n",
    "                            ?,\n",
    "                            ?,\n",
    "                            ?,\n",
    "                            ?,\n",
    "                            ?,\n",
    "                            ?,\n",
    "                            ?,\n",
    "                            ?,\n",
    "                            ?,\n",
    "                            ?,\n",
    "                            ?,\n",
    "                            ?,\n",
    "                            ?,\n",
    "                            ?,\n",
    "                            ?,\n",
    "                            ?,\n",
    "                            ?,\n",
    "                            ?,\n",
    "                            ?,\n",
    "                            ?,\n",
    "                            ?,\n",
    "                            ?,\n",
    "                            ?,\n",
    "                            ?,\n",
    "                            ?,\n",
    "                            ?,\n",
    "                            ?,\n",
    "                            ?,\n",
    "                            ?,\n",
    "                            ?,\n",
    "                            ?,\n",
    "                            ?,\n",
    "                            ?,\n",
    "                            ?,\n",
    "                            ?,\n",
    "                            ?,\n",
    "                            ?,\n",
    "                            ?,\n",
    "                            ?,\n",
    "                            ?,\n",
    "                            ?,\n",
    "                            ?,\n",
    "                            ?,\n",
    "                            ?,\n",
    "                            ?,\n",
    "                            ?,\n",
    "                            ?,\n",
    "                            ?,\n",
    "                            ?,\n",
    "                            ?,\n",
    "                            ?,\n",
    "                            ?,\n",
    "                            ?,\n",
    "                            ?,\n",
    "                            ?,\n",
    "                            ?,\n",
    "                            ?,\n",
    "                            ?)\"\"\", row)\n",
    "\n",
    "conn.commit()\n",
    "conn.close()\n",
    "\n",
    "print(f'Data from {imput_csv} has been successfully imported into {database_file}')"
   ]
  },
  {
   "cell_type": "code",
   "execution_count": null,
   "id": "85dcd84b-ea40-45b2-b01e-53c7325bc809",
   "metadata": {},
   "outputs": [],
   "source": []
  },
  {
   "cell_type": "code",
   "execution_count": 14,
   "id": "1a56112d-826f-4a8c-afa9-77483013a9e2",
   "metadata": {
    "tags": []
   },
   "outputs": [
    {
     "name": "stdout",
     "output_type": "stream",
     "text": [
      "['config_manufactuer', 'serial_num', 'config_sub_cat', 'config_sup_group', 'ru_cat', 'sla_cat', 'ci_retired_date']\n"
     ]
    },
    {
     "name": "stderr",
     "output_type": "stream",
     "text": [
      "/tmp/ipykernel_4181/281867113.py:9: FutureWarning: DataFrame.fillna with 'method' is deprecated and will raise in a future version. Use obj.ffill() or obj.bfill() instead.\n",
      "  db_three = db_three.fillna(method='ffill')\n",
      "/tmp/ipykernel_4181/281867113.py:10: FutureWarning: DataFrame.fillna with 'method' is deprecated and will raise in a future version. Use obj.ffill() or obj.bfill() instead.\n",
      "  db_three = db_three.fillna(method='bfill')\n"
     ]
    }
   ],
   "source": [
    "db_three = pd.read_csv('ci_synth.csv')\n",
    "\n",
    "#change to datetime objects \n",
    "db_three['install_date'] = pd.to_datetime(db_three['install_date'],format='mixed').dt.date\n",
    "db_three['discovery_date'] = pd.to_datetime(db_three['discovery_date'],format='mixed').dt.date\n",
    "db_three['ci_retired_date'] = pd.to_datetime(db_three['ci_retired_date'],format='mixed').dt.date\n",
    "\n",
    "#replace nan with \" \"\n",
    "db_three = db_three.fillna(method='ffill')\n",
    "db_three = db_three.fillna(method='bfill')\n",
    "print(db_three.columns[db_three.isna().any()].tolist())\n",
    "db_three = db_three.drop(columns=db_three.columns[db_three.isna().any()].tolist())\n",
    "db_three.to_csv('ci_synth_new.csv',index=False)"
   ]
  },
  {
   "cell_type": "code",
   "execution_count": 15,
   "id": "c90bb09e-4155-43e2-9692-86ef94482294",
   "metadata": {
    "tags": []
   },
   "outputs": [
    {
     "name": "stdout",
     "output_type": "stream",
     "text": [
      "Data from ci_synth_new.csv has been successfully imported into snyth.db\n"
     ]
    }
   ],
   "source": [
    "#ci synth\n",
    "\n",
    "#define the input csv and the sqlite database file\n",
    "imput_csv = 'ci_synth_new.csv'\n",
    "database_file = 'snyth.db'\n",
    "\n",
    "#connect to SQLite databsse \n",
    "conn = sqlite3.connect(database_file)\n",
    "cursor = conn.cursor()\n",
    "\n",
    "#create a table to store the data \n",
    "cursor.execute(\"\"\"CREATE TABLE IF NOT EXISTS configuration (\n",
    "                    uniq_id varchar(32),\n",
    "                    config_cat varchar(40),\n",
    "                    config_disconvery_source varchar(40),\n",
    "                    domain_name varchar(255),\n",
    "                    domain_full_path varchar(255),\n",
    "                    install_date date,\n",
    "                    config_status varchar(40),\n",
    "                    discovery_date date,\n",
    "                    model_id varchar(32),\n",
    "                    config_name varchar(255),\n",
    "                    config_class_name varchar(80),\n",
    "                    asset_identifyer varchar(80),\n",
    "                    inf_cat varchar(32),\n",
    "                    environment_name varchar(40))\"\"\")\n",
    "\n",
    "#Read data from the csv file and insert it into the Sqlite table \n",
    "with open(imput_csv, 'r',newline='') as csvfile:\n",
    "    csv_reader = csv.reader(csvfile)\n",
    "    next(csv_reader) #skip the header row\n",
    "    \n",
    "    for row in csv_reader:\n",
    "        cursor.execute(\"\"\"INSERT INTO configuration VALUES(\n",
    "                            ?,\n",
    "                            ?,\n",
    "                            ?,\n",
    "                            ?,\n",
    "                            ?,\n",
    "                            ?,\n",
    "                            ?,\n",
    "                            ?,\n",
    "                            ?,\n",
    "                            ?,\n",
    "                            ?,\n",
    "                            ?,\n",
    "                            ?,\n",
    "                            ?)\"\"\", row)\n",
    "conn.commit()\n",
    "conn.close()\n",
    "\n",
    "print(f'Data from {imput_csv} has been successfully imported into {database_file}')"
   ]
  },
  {
   "cell_type": "code",
   "execution_count": null,
   "id": "69f78ef9-37a4-4daf-a101-a6ff4d763ea3",
   "metadata": {},
   "outputs": [],
   "source": []
  },
  {
   "cell_type": "code",
   "execution_count": null,
   "id": "667fa21a-698e-4f2b-9325-171fe179fc3e",
   "metadata": {},
   "outputs": [],
   "source": []
  }
 ],
 "metadata": {
  "availableInstances": [
   {
    "_defaultOrder": 0,
    "_isFastLaunch": true,
    "category": "General purpose",
    "gpuNum": 0,
    "hideHardwareSpecs": false,
    "memoryGiB": 4,
    "name": "ml.t3.medium",
    "vcpuNum": 2
   },
   {
    "_defaultOrder": 1,
    "_isFastLaunch": false,
    "category": "General purpose",
    "gpuNum": 0,
    "hideHardwareSpecs": false,
    "memoryGiB": 8,
    "name": "ml.t3.large",
    "vcpuNum": 2
   },
   {
    "_defaultOrder": 2,
    "_isFastLaunch": false,
    "category": "General purpose",
    "gpuNum": 0,
    "hideHardwareSpecs": false,
    "memoryGiB": 16,
    "name": "ml.t3.xlarge",
    "vcpuNum": 4
   },
   {
    "_defaultOrder": 3,
    "_isFastLaunch": false,
    "category": "General purpose",
    "gpuNum": 0,
    "hideHardwareSpecs": false,
    "memoryGiB": 32,
    "name": "ml.t3.2xlarge",
    "vcpuNum": 8
   },
   {
    "_defaultOrder": 4,
    "_isFastLaunch": true,
    "category": "General purpose",
    "gpuNum": 0,
    "hideHardwareSpecs": false,
    "memoryGiB": 8,
    "name": "ml.m5.large",
    "vcpuNum": 2
   },
   {
    "_defaultOrder": 5,
    "_isFastLaunch": false,
    "category": "General purpose",
    "gpuNum": 0,
    "hideHardwareSpecs": false,
    "memoryGiB": 16,
    "name": "ml.m5.xlarge",
    "vcpuNum": 4
   },
   {
    "_defaultOrder": 6,
    "_isFastLaunch": false,
    "category": "General purpose",
    "gpuNum": 0,
    "hideHardwareSpecs": false,
    "memoryGiB": 32,
    "name": "ml.m5.2xlarge",
    "vcpuNum": 8
   },
   {
    "_defaultOrder": 7,
    "_isFastLaunch": false,
    "category": "General purpose",
    "gpuNum": 0,
    "hideHardwareSpecs": false,
    "memoryGiB": 64,
    "name": "ml.m5.4xlarge",
    "vcpuNum": 16
   },
   {
    "_defaultOrder": 8,
    "_isFastLaunch": false,
    "category": "General purpose",
    "gpuNum": 0,
    "hideHardwareSpecs": false,
    "memoryGiB": 128,
    "name": "ml.m5.8xlarge",
    "vcpuNum": 32
   },
   {
    "_defaultOrder": 9,
    "_isFastLaunch": false,
    "category": "General purpose",
    "gpuNum": 0,
    "hideHardwareSpecs": false,
    "memoryGiB": 192,
    "name": "ml.m5.12xlarge",
    "vcpuNum": 48
   },
   {
    "_defaultOrder": 10,
    "_isFastLaunch": false,
    "category": "General purpose",
    "gpuNum": 0,
    "hideHardwareSpecs": false,
    "memoryGiB": 256,
    "name": "ml.m5.16xlarge",
    "vcpuNum": 64
   },
   {
    "_defaultOrder": 11,
    "_isFastLaunch": false,
    "category": "General purpose",
    "gpuNum": 0,
    "hideHardwareSpecs": false,
    "memoryGiB": 384,
    "name": "ml.m5.24xlarge",
    "vcpuNum": 96
   },
   {
    "_defaultOrder": 12,
    "_isFastLaunch": false,
    "category": "General purpose",
    "gpuNum": 0,
    "hideHardwareSpecs": false,
    "memoryGiB": 8,
    "name": "ml.m5d.large",
    "vcpuNum": 2
   },
   {
    "_defaultOrder": 13,
    "_isFastLaunch": false,
    "category": "General purpose",
    "gpuNum": 0,
    "hideHardwareSpecs": false,
    "memoryGiB": 16,
    "name": "ml.m5d.xlarge",
    "vcpuNum": 4
   },
   {
    "_defaultOrder": 14,
    "_isFastLaunch": false,
    "category": "General purpose",
    "gpuNum": 0,
    "hideHardwareSpecs": false,
    "memoryGiB": 32,
    "name": "ml.m5d.2xlarge",
    "vcpuNum": 8
   },
   {
    "_defaultOrder": 15,
    "_isFastLaunch": false,
    "category": "General purpose",
    "gpuNum": 0,
    "hideHardwareSpecs": false,
    "memoryGiB": 64,
    "name": "ml.m5d.4xlarge",
    "vcpuNum": 16
   },
   {
    "_defaultOrder": 16,
    "_isFastLaunch": false,
    "category": "General purpose",
    "gpuNum": 0,
    "hideHardwareSpecs": false,
    "memoryGiB": 128,
    "name": "ml.m5d.8xlarge",
    "vcpuNum": 32
   },
   {
    "_defaultOrder": 17,
    "_isFastLaunch": false,
    "category": "General purpose",
    "gpuNum": 0,
    "hideHardwareSpecs": false,
    "memoryGiB": 192,
    "name": "ml.m5d.12xlarge",
    "vcpuNum": 48
   },
   {
    "_defaultOrder": 18,
    "_isFastLaunch": false,
    "category": "General purpose",
    "gpuNum": 0,
    "hideHardwareSpecs": false,
    "memoryGiB": 256,
    "name": "ml.m5d.16xlarge",
    "vcpuNum": 64
   },
   {
    "_defaultOrder": 19,
    "_isFastLaunch": false,
    "category": "General purpose",
    "gpuNum": 0,
    "hideHardwareSpecs": false,
    "memoryGiB": 384,
    "name": "ml.m5d.24xlarge",
    "vcpuNum": 96
   },
   {
    "_defaultOrder": 20,
    "_isFastLaunch": false,
    "category": "General purpose",
    "gpuNum": 0,
    "hideHardwareSpecs": true,
    "memoryGiB": 0,
    "name": "ml.geospatial.interactive",
    "supportedImageNames": [
     "sagemaker-geospatial-v1-0"
    ],
    "vcpuNum": 0
   },
   {
    "_defaultOrder": 21,
    "_isFastLaunch": true,
    "category": "Compute optimized",
    "gpuNum": 0,
    "hideHardwareSpecs": false,
    "memoryGiB": 4,
    "name": "ml.c5.large",
    "vcpuNum": 2
   },
   {
    "_defaultOrder": 22,
    "_isFastLaunch": false,
    "category": "Compute optimized",
    "gpuNum": 0,
    "hideHardwareSpecs": false,
    "memoryGiB": 8,
    "name": "ml.c5.xlarge",
    "vcpuNum": 4
   },
   {
    "_defaultOrder": 23,
    "_isFastLaunch": false,
    "category": "Compute optimized",
    "gpuNum": 0,
    "hideHardwareSpecs": false,
    "memoryGiB": 16,
    "name": "ml.c5.2xlarge",
    "vcpuNum": 8
   },
   {
    "_defaultOrder": 24,
    "_isFastLaunch": false,
    "category": "Compute optimized",
    "gpuNum": 0,
    "hideHardwareSpecs": false,
    "memoryGiB": 32,
    "name": "ml.c5.4xlarge",
    "vcpuNum": 16
   },
   {
    "_defaultOrder": 25,
    "_isFastLaunch": false,
    "category": "Compute optimized",
    "gpuNum": 0,
    "hideHardwareSpecs": false,
    "memoryGiB": 72,
    "name": "ml.c5.9xlarge",
    "vcpuNum": 36
   },
   {
    "_defaultOrder": 26,
    "_isFastLaunch": false,
    "category": "Compute optimized",
    "gpuNum": 0,
    "hideHardwareSpecs": false,
    "memoryGiB": 96,
    "name": "ml.c5.12xlarge",
    "vcpuNum": 48
   },
   {
    "_defaultOrder": 27,
    "_isFastLaunch": false,
    "category": "Compute optimized",
    "gpuNum": 0,
    "hideHardwareSpecs": false,
    "memoryGiB": 144,
    "name": "ml.c5.18xlarge",
    "vcpuNum": 72
   },
   {
    "_defaultOrder": 28,
    "_isFastLaunch": false,
    "category": "Compute optimized",
    "gpuNum": 0,
    "hideHardwareSpecs": false,
    "memoryGiB": 192,
    "name": "ml.c5.24xlarge",
    "vcpuNum": 96
   },
   {
    "_defaultOrder": 29,
    "_isFastLaunch": true,
    "category": "Accelerated computing",
    "gpuNum": 1,
    "hideHardwareSpecs": false,
    "memoryGiB": 16,
    "name": "ml.g4dn.xlarge",
    "vcpuNum": 4
   },
   {
    "_defaultOrder": 30,
    "_isFastLaunch": false,
    "category": "Accelerated computing",
    "gpuNum": 1,
    "hideHardwareSpecs": false,
    "memoryGiB": 32,
    "name": "ml.g4dn.2xlarge",
    "vcpuNum": 8
   },
   {
    "_defaultOrder": 31,
    "_isFastLaunch": false,
    "category": "Accelerated computing",
    "gpuNum": 1,
    "hideHardwareSpecs": false,
    "memoryGiB": 64,
    "name": "ml.g4dn.4xlarge",
    "vcpuNum": 16
   },
   {
    "_defaultOrder": 32,
    "_isFastLaunch": false,
    "category": "Accelerated computing",
    "gpuNum": 1,
    "hideHardwareSpecs": false,
    "memoryGiB": 128,
    "name": "ml.g4dn.8xlarge",
    "vcpuNum": 32
   },
   {
    "_defaultOrder": 33,
    "_isFastLaunch": false,
    "category": "Accelerated computing",
    "gpuNum": 4,
    "hideHardwareSpecs": false,
    "memoryGiB": 192,
    "name": "ml.g4dn.12xlarge",
    "vcpuNum": 48
   },
   {
    "_defaultOrder": 34,
    "_isFastLaunch": false,
    "category": "Accelerated computing",
    "gpuNum": 1,
    "hideHardwareSpecs": false,
    "memoryGiB": 256,
    "name": "ml.g4dn.16xlarge",
    "vcpuNum": 64
   },
   {
    "_defaultOrder": 35,
    "_isFastLaunch": false,
    "category": "Accelerated computing",
    "gpuNum": 1,
    "hideHardwareSpecs": false,
    "memoryGiB": 61,
    "name": "ml.p3.2xlarge",
    "vcpuNum": 8
   },
   {
    "_defaultOrder": 36,
    "_isFastLaunch": false,
    "category": "Accelerated computing",
    "gpuNum": 4,
    "hideHardwareSpecs": false,
    "memoryGiB": 244,
    "name": "ml.p3.8xlarge",
    "vcpuNum": 32
   },
   {
    "_defaultOrder": 37,
    "_isFastLaunch": false,
    "category": "Accelerated computing",
    "gpuNum": 8,
    "hideHardwareSpecs": false,
    "memoryGiB": 488,
    "name": "ml.p3.16xlarge",
    "vcpuNum": 64
   },
   {
    "_defaultOrder": 38,
    "_isFastLaunch": false,
    "category": "Accelerated computing",
    "gpuNum": 8,
    "hideHardwareSpecs": false,
    "memoryGiB": 768,
    "name": "ml.p3dn.24xlarge",
    "vcpuNum": 96
   },
   {
    "_defaultOrder": 39,
    "_isFastLaunch": false,
    "category": "Memory Optimized",
    "gpuNum": 0,
    "hideHardwareSpecs": false,
    "memoryGiB": 16,
    "name": "ml.r5.large",
    "vcpuNum": 2
   },
   {
    "_defaultOrder": 40,
    "_isFastLaunch": false,
    "category": "Memory Optimized",
    "gpuNum": 0,
    "hideHardwareSpecs": false,
    "memoryGiB": 32,
    "name": "ml.r5.xlarge",
    "vcpuNum": 4
   },
   {
    "_defaultOrder": 41,
    "_isFastLaunch": false,
    "category": "Memory Optimized",
    "gpuNum": 0,
    "hideHardwareSpecs": false,
    "memoryGiB": 64,
    "name": "ml.r5.2xlarge",
    "vcpuNum": 8
   },
   {
    "_defaultOrder": 42,
    "_isFastLaunch": false,
    "category": "Memory Optimized",
    "gpuNum": 0,
    "hideHardwareSpecs": false,
    "memoryGiB": 128,
    "name": "ml.r5.4xlarge",
    "vcpuNum": 16
   },
   {
    "_defaultOrder": 43,
    "_isFastLaunch": false,
    "category": "Memory Optimized",
    "gpuNum": 0,
    "hideHardwareSpecs": false,
    "memoryGiB": 256,
    "name": "ml.r5.8xlarge",
    "vcpuNum": 32
   },
   {
    "_defaultOrder": 44,
    "_isFastLaunch": false,
    "category": "Memory Optimized",
    "gpuNum": 0,
    "hideHardwareSpecs": false,
    "memoryGiB": 384,
    "name": "ml.r5.12xlarge",
    "vcpuNum": 48
   },
   {
    "_defaultOrder": 45,
    "_isFastLaunch": false,
    "category": "Memory Optimized",
    "gpuNum": 0,
    "hideHardwareSpecs": false,
    "memoryGiB": 512,
    "name": "ml.r5.16xlarge",
    "vcpuNum": 64
   },
   {
    "_defaultOrder": 46,
    "_isFastLaunch": false,
    "category": "Memory Optimized",
    "gpuNum": 0,
    "hideHardwareSpecs": false,
    "memoryGiB": 768,
    "name": "ml.r5.24xlarge",
    "vcpuNum": 96
   },
   {
    "_defaultOrder": 47,
    "_isFastLaunch": false,
    "category": "Accelerated computing",
    "gpuNum": 1,
    "hideHardwareSpecs": false,
    "memoryGiB": 16,
    "name": "ml.g5.xlarge",
    "vcpuNum": 4
   },
   {
    "_defaultOrder": 48,
    "_isFastLaunch": false,
    "category": "Accelerated computing",
    "gpuNum": 1,
    "hideHardwareSpecs": false,
    "memoryGiB": 32,
    "name": "ml.g5.2xlarge",
    "vcpuNum": 8
   },
   {
    "_defaultOrder": 49,
    "_isFastLaunch": false,
    "category": "Accelerated computing",
    "gpuNum": 1,
    "hideHardwareSpecs": false,
    "memoryGiB": 64,
    "name": "ml.g5.4xlarge",
    "vcpuNum": 16
   },
   {
    "_defaultOrder": 50,
    "_isFastLaunch": false,
    "category": "Accelerated computing",
    "gpuNum": 1,
    "hideHardwareSpecs": false,
    "memoryGiB": 128,
    "name": "ml.g5.8xlarge",
    "vcpuNum": 32
   },
   {
    "_defaultOrder": 51,
    "_isFastLaunch": false,
    "category": "Accelerated computing",
    "gpuNum": 1,
    "hideHardwareSpecs": false,
    "memoryGiB": 256,
    "name": "ml.g5.16xlarge",
    "vcpuNum": 64
   },
   {
    "_defaultOrder": 52,
    "_isFastLaunch": false,
    "category": "Accelerated computing",
    "gpuNum": 4,
    "hideHardwareSpecs": false,
    "memoryGiB": 192,
    "name": "ml.g5.12xlarge",
    "vcpuNum": 48
   },
   {
    "_defaultOrder": 53,
    "_isFastLaunch": false,
    "category": "Accelerated computing",
    "gpuNum": 4,
    "hideHardwareSpecs": false,
    "memoryGiB": 384,
    "name": "ml.g5.24xlarge",
    "vcpuNum": 96
   },
   {
    "_defaultOrder": 54,
    "_isFastLaunch": false,
    "category": "Accelerated computing",
    "gpuNum": 8,
    "hideHardwareSpecs": false,
    "memoryGiB": 768,
    "name": "ml.g5.48xlarge",
    "vcpuNum": 192
   },
   {
    "_defaultOrder": 55,
    "_isFastLaunch": false,
    "category": "Accelerated computing",
    "gpuNum": 8,
    "hideHardwareSpecs": false,
    "memoryGiB": 1152,
    "name": "ml.p4d.24xlarge",
    "vcpuNum": 96
   },
   {
    "_defaultOrder": 56,
    "_isFastLaunch": false,
    "category": "Accelerated computing",
    "gpuNum": 8,
    "hideHardwareSpecs": false,
    "memoryGiB": 1152,
    "name": "ml.p4de.24xlarge",
    "vcpuNum": 96
   },
   {
    "_defaultOrder": 57,
    "_isFastLaunch": false,
    "category": "Accelerated computing",
    "gpuNum": 0,
    "hideHardwareSpecs": false,
    "memoryGiB": 32,
    "name": "ml.trn1.2xlarge",
    "vcpuNum": 8
   },
   {
    "_defaultOrder": 58,
    "_isFastLaunch": false,
    "category": "Accelerated computing",
    "gpuNum": 0,
    "hideHardwareSpecs": false,
    "memoryGiB": 512,
    "name": "ml.trn1.32xlarge",
    "vcpuNum": 128
   },
   {
    "_defaultOrder": 59,
    "_isFastLaunch": false,
    "category": "Accelerated computing",
    "gpuNum": 0,
    "hideHardwareSpecs": false,
    "memoryGiB": 512,
    "name": "ml.trn1n.32xlarge",
    "vcpuNum": 128
   }
  ],
  "instance_type": "ml.t3.medium",
  "kernelspec": {
   "display_name": "Python 3 (Data Science 3.0)",
   "language": "python",
   "name": "python3__SAGEMAKER_INTERNAL__arn:aws:sagemaker:us-east-1:081325390199:image/sagemaker-data-science-310-v1"
  },
  "language_info": {
   "codemirror_mode": {
    "name": "ipython",
    "version": 3
   },
   "file_extension": ".py",
   "mimetype": "text/x-python",
   "name": "python",
   "nbconvert_exporter": "python",
   "pygments_lexer": "ipython3",
   "version": "3.10.6"
  }
 },
 "nbformat": 4,
 "nbformat_minor": 5
}
